{
  "cells": [
    {
      "cell_type": "code",
      "execution_count": null,
      "metadata": {
        "id": "MDjBBO5jecZL"
      },
      "outputs": [],
      "source": [
        "# Install PennyLane and PySCF\n"
      ]
    },
    {
      "cell_type": "markdown",
      "metadata": {
        "id": "7TMuHjK3tVUB"
      },
      "source": [
        "### Import your favourite libraries"
      ]
    },
    {
      "cell_type": "code",
      "execution_count": null,
      "metadata": {
        "id": "bwELQYxWtMIQ"
      },
      "outputs": [],
      "source": [
        "import pennylane as qml\n",
        "from pennylane import numpy as pnp"
      ]
    },
    {
      "cell_type": "markdown",
      "metadata": {
        "id": "ivlMd211pa_D"
      },
      "source": [
        "## Initial state preparation"
      ]
    },
    {
      "cell_type": "markdown",
      "metadata": {
        "id": "sTkOXh9bzFPt"
      },
      "source": [
        "Initial states obtained from affordable post-Hartree-Fock calculations can be used to make the quantum workflow more performant. For instance, configuration interaction (CI) and coupled cluster (CC) calculations with single and double (SD) excitations can be performed using PySCF and the resulting wave function can be used as the initial state in the quantum algorithm. PennyLane provides the `import_state()` function that takes a PySCF object, extracts the wave function and returns a state vector in the computational basis that can be used in a quantum circuit. (Source: [Using PennyLane with PySCF and OpenFermion](https://pennylane.ai/qml/demos/tutorial_qchem_external/))\n",
        "\n",
        "The currently supported methods are configuration interaction with singles and doubles (CISD), coupled cluster (CCSD), density-matrix renormalization group (DMRG) and semistochastic heat-bath configuration interaction (SHCI). These are basically different ways of considering which electrons have an effect on others.\n",
        "\n",
        "We now show how this works on the linear H3+ molecule as an example."
      ]
    },
    {
      "cell_type": "markdown",
      "metadata": {
        "id": "IVQakS-Z0J07"
      },
      "source": [
        "Let’s take this opportunity to create the Hartree-Fock initial state, to compare other states against it later on."
      ]
    },
    {
      "cell_type": "code",
      "execution_count": null,
      "metadata": {
        "id": "YY0y00rd0KHL"
      },
      "outputs": [],
      "source": [
        "#create the Hartree-Fock initial state, to compare other states against it later on.\n",
        "hf_primer = ([[3, 0, 0]], pnp.array([1.0]))\n",
        "wf_hf = qml.qchem.import_state(hf_primer)"
      ]
    },
    {
      "cell_type": "markdown",
      "metadata": {
        "id": "9J6_qniS2JJT"
      },
      "source": [
        "### CISD states\n",
        "\n",
        "CISD stands for configuration interaction singles and doubles. The first line of attack for initial state preparation is often a CISD calculation, performed with the PySCF library. CISD is unsophisticated, but it is fast. It will not be of much help for strongly correlated molecules, but it is better than Hartree-Fock. CISD includes only those configurations that differ from the Hartree–Fock determinant by at most two occupied spinorbitals. Here is the code example:"
      ]
    },
    {
      "cell_type": "code",
      "execution_count": null,
      "metadata": {
        "collapsed": true,
        "id": "LI-1AjzBc2BV"
      },
      "outputs": [],
      "source": [
        "import pyscf\n",
        "\n",
        "\n",
        "# Create the H3+ molecule from PySCF\n",
        "\n",
        "# Perfrom Hartree-Fock and then CISD\n",
        "\n",
        "\n",
        "# Import the initial state into PennyLane\n"
      ]
    },
    {
      "cell_type": "markdown",
      "metadata": {
        "id": "VaHNqLHu1Jtr"
      },
      "source": [
        "### CCSD states\n",
        "CCSD stands for Coupled-cluster with Single and Double excitations.\n",
        "The function `import_state()` is general and works similarly for CCSD. It can automatically detect the input type and apply the appropriate conversion protocol."
      ]
    },
    {
      "cell_type": "code",
      "execution_count": null,
      "metadata": {
        "collapsed": true,
        "id": "aUEBwtBQ16Yg"
      },
      "outputs": [],
      "source": [
        "#Perform CCSD\n",
        "\n",
        "# Import the initial state into PennyLane\n"
      ]
    },
    {
      "cell_type": "markdown",
      "metadata": {
        "id": "hvOzmvzq3Hgt"
      },
      "source": [
        "### Compare the ground state energy obtained with each initial state prep"
      ]
    },
    {
      "cell_type": "markdown",
      "metadata": {
        "id": "QvlcDOIppnZk"
      },
      "source": [
        "Let us now demonstrate how the choice of a better initial state shortens the runtime of VQE for obtaining the ground-state energy of a molecule. As a first step, create our linear  H3+ molecule, a device, and a simple VQE circuit with single and double excitations:"
      ]
    },
    {
      "cell_type": "code",
      "execution_count": null,
      "metadata": {
        "id": "zt6AHeHrpoZH"
      },
      "outputs": [],
      "source": [
        "# Generate the molecular Hamiltonian for H3+\n",
        "\n",
        "\n",
        "# Create all possible excitations in H3+\n",
        "\n",
        "#combine all the the possible excitations\n"
      ]
    },
    {
      "cell_type": "markdown",
      "metadata": {
        "id": "JDnti8ckt7QJ"
      },
      "source": [
        "Now let’s run VQE with the Hartree-Fock initial state. We first build the VQE circuit:"
      ]
    },
    {
      "cell_type": "code",
      "execution_count": null,
      "metadata": {
        "id": "7f1opNa0t3vh"
      },
      "outputs": [],
      "source": [
        "# run VQE with the Hartree-Fock initial state\n",
        "\n",
        "#Build the VQE circuit:\n",
        "\n"
      ]
    },
    {
      "cell_type": "markdown",
      "metadata": {
        "id": "guu02if_z0HX"
      },
      "source": [
        "Next, we create the VQE optimizer, initialize the variational parameters and run the VQE optimization."
      ]
    },
    {
      "cell_type": "code",
      "execution_count": null,
      "metadata": {
        "id": "vDHkb6txzyhz"
      },
      "outputs": [],
      "source": [
        "#Define optimizer and initialize parameters\n",
        "\n",
        "#Draw circuit\n",
        "\n"
      ]
    },
    {
      "cell_type": "code",
      "execution_count": null,
      "metadata": {
        "id": "wPd1Podtv8N4"
      },
      "outputs": [],
      "source": [
        "delta_E = 10\n",
        "results_hf = []\n",
        "tol = 1e-5\n",
        "# run the VQE optimization loop until convergence threshold is reached\n",
        "while abs(delta_E) > tol:\n",
        "    #complete code here\n",
        "\n",
        "    if len(results_hf) % 5 == 0:\n",
        "        print(f\"Step = {len(results_hf)},  Energy = {new_energy:.6f} Ha\")\n",
        "\n",
        "print(f\"Starting with HF state took {len(results_hf)} iterations until convergence.\")"
      ]
    },
    {
      "cell_type": "markdown",
      "metadata": {
        "id": "y1vmz_eluW98"
      },
      "source": [
        "And compare with how things go when you run it with the CISD initial state:"
      ]
    },
    {
      "cell_type": "code",
      "execution_count": null,
      "metadata": {
        "collapsed": true,
        "id": "Te-X_Ue3uXLr"
      },
      "outputs": [],
      "source": [
        "\n",
        "delta_E = 10\n",
        "results_cisd = []\n",
        "\n",
        "while abs(delta_E) > tol:\n",
        "    #complete code here\n",
        "\n",
        "    if len(results_cisd) % 5 == 0:\n",
        "        print(f\"Step = {len(results_cisd)},  Energy = {new_energy:.6f} Ha\")\n",
        "print(f\"Starting with CISD state took {len(results_cisd)} iterations until convergence.\")"
      ]
    },
    {
      "cell_type": "markdown",
      "metadata": {
        "id": "1HVTcM-8l_Yr"
      },
      "source": [
        "And with the CCSD initial state:"
      ]
    },
    {
      "cell_type": "code",
      "execution_count": null,
      "metadata": {
        "collapsed": true,
        "id": "qGN61LSKlRD-"
      },
      "outputs": [],
      "source": [
        "\n",
        "delta_E = 10\n",
        "results_ccsd = []\n",
        "\n",
        "while abs(delta_E) > tol:\n",
        "    #complete code here\n",
        "\n",
        "    if len(results_ccsd) % 5 == 0:\n",
        "        print(f\"Step = {len(results_ccsd)},  Energy = {new_energy:.6f} Ha\")\n",
        "print(f\"Starting with CCSD state took {len(results_ccsd)} iterations until convergence.\")"
      ]
    },
    {
      "cell_type": "markdown",
      "metadata": {
        "id": "SwO_cmxjucbw"
      },
      "source": [
        "Let’s visualize the comparison between the three initial states, and see that indeed we get to the ground state much faster by starting with the CISD and CCSD states than with the HF state."
      ]
    },
    {
      "cell_type": "code",
      "execution_count": null,
      "metadata": {
        "collapsed": true,
        "id": "rJZtaLT0uhOn"
      },
      "outputs": [],
      "source": [
        "import matplotlib.pyplot as plt\n",
        "\n",
        "fig, ax = plt.subplots()\n",
        "ax.plot(range(len(results_hf)), results_hf, color=\"r\", marker=\"o\", label=\"wf_hf\")\n",
        "ax.plot(range(len(results_cisd)), results_cisd, color=\"b\", marker=\"o\", label=\"wf_cisd\")\n",
        "ax.plot(range(len(results_ccsd)), results_cisd, color=\"c\", marker=\"x\", label=\"wf_ccsd\")\n",
        "ax.legend(fontsize=16)\n",
        "ax.tick_params(axis=\"both\", labelsize=16)\n",
        "ax.set_xlabel(\"Iteration\", fontsize=20)\n",
        "ax.set_ylabel(\"Energy, Ha\", fontsize=20)\n",
        "plt.tight_layout()\n",
        "plt.show()"
      ]
    },
    {
      "cell_type": "markdown",
      "metadata": {
        "id": "XtgslhdDuhrq"
      },
      "source": [
        "Indeed, the CISD and CCSD states significantly shorten the VQE runtime.\n",
        "\n",
        "It is sometimes possible to foresee the extent of this speed-up of a particular initial state by computing its overlap with the ground state–a traditional metric of success for initial states in quantum algorithms. Because in our examples the states are regular arrays, computing an overlap between different states is as easy as computing a dot product."
      ]
    },
    {
      "cell_type": "code",
      "execution_count": null,
      "metadata": {
        "collapsed": true,
        "id": "hYricROCupae"
      },
      "outputs": [],
      "source": [
        "#Compute the overlap of the different states\n"
      ]
    },
    {
      "cell_type": "markdown",
      "metadata": {
        "id": "asI1-is_uw1x"
      },
      "source": [
        "In this particular case of H3+, even CISD gives the exact wavefunction, hence both overlaps with the HF state are identical. In more correlated molecules, overlaps will show that the more multireference methods DMRG and SHCI are farther away from the Hartree-Fock state, allowing them to perform better (you can check this by printing the overlaps with DMRG and SHCI in a more correlated molecule). If a ground state in such a case was known, the overlap to it could tell us directly the quality of the initial state."
      ]
    },
    {
      "cell_type": "markdown",
      "metadata": {
        "id": "xeQtyN8DuVub"
      },
      "source": [
        "## Back to the presentation"
      ]
    },
    {
      "cell_type": "markdown",
      "metadata": {
        "id": "OBoNMXHTuY3T"
      },
      "source": [
        "## Estimating reaction rates from reconstructed potential energy surfaces"
      ]
    },
    {
      "cell_type": "markdown",
      "metadata": {
        "id": "XoSbehTQqJPa"
      },
      "source": [
        "## Bond dissociation in an H2 molecule"
      ]
    },
    {
      "cell_type": "markdown",
      "metadata": {
        "id": "sm37okKkqZE4"
      },
      "source": [
        "To build the potential energy surface, we compute the energy for fixed\n",
        "positions of the nuclei, and subsequently adjust the positions of the\n",
        "nuclei in incremental steps, computing the energies at each new\n",
        "configuration. The obtained set of energies corresponds to a grid of\n",
        "nuclear positions and the plot of $E(R)$ gives rise to the potential\n",
        "energy surface."
      ]
    },
    {
      "cell_type": "markdown",
      "metadata": {
        "id": "HcffGFWQqinW"
      },
      "source": [
        "We would like to construct a potential energy surface and use it to compute\n",
        "equilibrium bond lengths and the bond dissociation energy for the $H_2$ molecule. The formation or breaking of the $H-H$\n",
        "bond is the most elementary of all reactions:\n",
        "\n",
        "$$H_2 \\rightarrow H + H.$$"
      ]
    },
    {
      "cell_type": "code",
      "execution_count": null,
      "metadata": {
        "id": "e2fOdPS-qczL"
      },
      "outputs": [],
      "source": [
        "# Create the Hartree-Fock initial state for the molecule.\n",
        "# Note: we already know we will  have 2 electrons and 4 orbitals for the H2 molecule\n",
        "\n",
        "\n",
        "#Define structure of molecule from symbols and coordinates in atomic units\n"
      ]
    },
    {
      "cell_type": "markdown",
      "metadata": {
        "id": "8MchJ2NZsLDw"
      },
      "source": [
        "We vary the bond length in the range  0.5 to 5.0 Bohrs in steps of 0.25 Bohr. This covers the point where the H−H bond is formed, the equilibrium bond length, and the point where the bond is broken, which occurs when the atoms are far away from each other."
      ]
    },
    {
      "cell_type": "code",
      "execution_count": null,
      "metadata": {
        "id": "bK7Yz7PCrF8a"
      },
      "outputs": [],
      "source": [
        "# list to store energies\n",
        "energies = []\n",
        "\n",
        "#vary the bond length in the range 0.5 to 5.0 Bohrs in steps of 0.25 Bohr.\n",
        "\n",
        "# set up a loop to change bond length\n",
        "r_range = pnp.arange(0.5, 5.0, 0.25)\n",
        "\n",
        "# keeps track of points in the potential energy surface\n",
        "pes_point = 0\n",
        "\n",
        "\n",
        "\n",
        "# Create all possible excitations in H2\n",
        "singles, doubles = qml.qchem.excitations(electrons = 2, orbitals = 4)\n",
        "#combine all the the possible excitations\n",
        "excitations = singles + doubles\n",
        "print(\"Excitations: \",excitations)\n"
      ]
    },
    {
      "cell_type": "code",
      "execution_count": null,
      "metadata": {
        "id": "yXHQtCnowL08"
      },
      "outputs": [],
      "source": [
        "for r in r_range:\n",
        "    # Change only the z coordinate of one atom\n",
        "\n",
        "\n",
        "    # Obtain the qubit Hamiltonian - need to specify the pyscf backend for functional reasons\n",
        "\n",
        "\n",
        "    #Build circuit\n",
        "    # define the device, optimizer and circuit\n",
        "\n",
        "\n",
        "\n",
        "\n",
        "\n",
        "    # define optizmier and initialize the gate parameters\n",
        "\n",
        "\n",
        "    # initialize with converged parameters from previous point\n",
        "\n",
        "\n",
        "\n",
        "\n",
        "    # store the converged parameters\n"
      ]
    },
    {
      "cell_type": "code",
      "execution_count": null,
      "metadata": {
        "id": "6n8KSaQp8ZPP"
      },
      "outputs": [],
      "source": [
        "#Draw the circuit\n"
      ]
    },
    {
      "cell_type": "code",
      "execution_count": null,
      "metadata": {
        "id": "4GHlWAiItSXp"
      },
      "outputs": [],
      "source": [
        "import matplotlib.pyplot as plt\n",
        "\n",
        "fig, ax = plt.subplots()\n",
        "ax.plot(r_range, energies)\n",
        "\n",
        "ax.set(\n",
        "    xlabel=\"Bond length (Bohr)\",\n",
        "    ylabel=\"Total energy (Hartree)\",\n",
        "    title=\"Potential energy surface for H$_2$ dissociation\",\n",
        ")\n",
        "ax.grid()\n",
        "plt.show()"
      ]
    },
    {
      "cell_type": "code",
      "execution_count": null,
      "metadata": {
        "colab": {
          "base_uri": "https://localhost:8080/"
        },
        "id": "NaMC80w_ta4Z",
        "outputId": "81f51d41-7697-45df-c5f0-0cd7a09141ee"
      },
      "outputs": [
        {
          "name": "stdout",
          "output_type": "stream",
          "text": [
            "The equilibrium bond length is 1.5 Bohrs\n",
            "The bond dissociation energy is 0.198772 Hartrees\n"
          ]
        }
      ],
      "source": [
        "# equilibrium energy\n",
        "e_eq = min(energies)\n",
        "# energy when atoms are far apart\n",
        "e_dis = energies[-1]\n",
        "\n",
        "# Bond dissociation energy\n",
        "bond_energy = e_dis - e_eq\n",
        "\n",
        "# Equilibrium bond length\n",
        "idx = energies.index(e_eq)\n",
        "bond_length = r_range[idx]\n",
        "\n",
        "print(f\"The equilibrium bond length is {bond_length:.1f} Bohrs\")\n",
        "print(f\"The bond dissociation energy is {bond_energy:.6f} Hartrees\")"
      ]
    },
    {
      "cell_type": "markdown",
      "metadata": {
        "id": "FcS4TV8ytjCL"
      },
      "source": [
        "## Hydrogen Exchange Reaction with the VQE algorithm"
      ]
    },
    {
      "cell_type": "markdown",
      "metadata": {
        "id": "LpYGz6Qfu80m"
      },
      "source": [
        "After studying a simple diatomic bond dissociation, we move to a\n",
        "slightly more complicated case: a hydrogen exchange reaction.\n",
        "\n",
        "$$H_2 + H \\rightarrow H + H_2.$$"
      ]
    },
    {
      "cell_type": "markdown",
      "metadata": {
        "id": "uJUzFms1vHcM"
      },
      "source": [
        "In a minimal basis like STO-3G, this system consists of three electrons\n",
        "in six spin molecular orbitals. This translates into a six-qubit\n",
        "problem, for which the Hartree-Fock state is $|111000\\rangle$. As there\n",
        "is an unpaired electron, the spin multiplicity is equal to two and needs\n",
        "to be specified, since it differs from the default value of one.\n",
        "\n",
        "\n",
        " Spin multiplicity $\\textrm{mult} = N_{unpaired} + 1$ for $N_{unpaired}$\n",
        " unpaired electrons occupying the HF orbitals."
      ]
    },
    {
      "cell_type": "code",
      "execution_count": null,
      "metadata": {
        "collapsed": true,
        "id": "D4iOL29yy3Pi"
      },
      "outputs": [],
      "source": [
        "#install openfermion an openfermionpyscf\n",
        "!pip install openfermion\n",
        "!pip install openfermionpyscf"
      ]
    },
    {
      "cell_type": "markdown",
      "metadata": {
        "id": "GM1tp30XDWrz"
      },
      "source": [
        "## Potential energy surface for hydrogen exchange reaction using VQE\n",
        "\n",
        "Note: We will use [qml.templates.AllSinglesDoubles](https://docs.pennylane.ai/en/stable/code/api/pennylane.AllSinglesDoubles.html) to build a quantum circuit to prepare correlated states of molecules by applying all SingleExcitation and DoubleExcitation operations to the initial Hartree-Fock state."
      ]
    },
    {
      "cell_type": "code",
      "execution_count": null,
      "metadata": {
        "id": "jT1qKuc3xBSg"
      },
      "outputs": [],
      "source": [
        "#Define the molecule\n",
        "\n",
        "\n",
        "\n",
        "energies = []\n",
        "pes_point = 0\n",
        "\n",
        "# get all the singles and doubles excitations, and Hartree-Fock state\n",
        "\n",
        "\n",
        "\n",
        "\n",
        "#Choose optimizer and the number of iterations\n",
        "\n",
        "\n",
        "\n",
        "\n"
      ]
    },
    {
      "cell_type": "code",
      "execution_count": null,
      "metadata": {
        "id": "NEwG8EtBNUOm"
      },
      "outputs": [],
      "source": [
        "# loop to change reaction coordinate\n",
        "r_range = pnp.arange(1.0, 3.0, 0.1)\n",
        "for r in r_range:\n",
        "\n",
        "    #Keep two hydrogen atoms in place separated by 4 Bohrs, and vary the location of the third hydrogen atom\n",
        "    coordinates = pnp.array([[0.0, 0.0, 0.0], [0.0, 0.0, r], [0.0, 0.0, 4.0]])\n",
        "\n",
        "    # Define molecule opbject and generaet Hamiltonian\n",
        "    #Note that e now specify the multiplicity\n",
        "\n",
        "\n",
        "   #Note: openfermion backend needed in defining Hamiltonians that describe open-shell systems (with multiplicity greater than 1)\n",
        "\n",
        "\n",
        "  #Define circuit\n",
        "    dev = qml.device(\"default.qubit\", wires=qubits)\n",
        "\n",
        "    @qml.qnode(dev)\n",
        "    def H3_rx_circuit(parameters):\n",
        "      #Use the AllSingleDoulbes template to genereate single and double excitations\n",
        "      #complete this code\n",
        "\n",
        "      return qml.expval(H)  # we are interested in minimizing this expectation value\n",
        "\n",
        "    #Optimization loop\n",
        "    params = pnp.zeros(len(singles) + len(doubles), requires_grad=True)\n",
        "\n",
        "    if pes_point > 0:\n",
        "        params = params_old\n",
        "\n",
        "    prev_energy = 0.0\n",
        "\n",
        "    for n in range(num_iterations):\n",
        "        params, energy = opt.step_and_cost(H3_rx_circuit, params)\n",
        "        if pnp.abs(energy - prev_energy) < 1e-6:\n",
        "            break\n",
        "        prev_energy = energy\n",
        "\n",
        "    # store the converged parameters\n",
        "    params_old = params\n",
        "    pes_point = pes_point + 1\n",
        "\n",
        "    energies.append(energy)\n",
        "\n"
      ]
    },
    {
      "cell_type": "code",
      "execution_count": null,
      "metadata": {
        "id": "r68U00tj9hPe"
      },
      "outputs": [],
      "source": [
        "#Draw circuit\n"
      ]
    },
    {
      "cell_type": "code",
      "execution_count": null,
      "metadata": {
        "id": "klLkofaSzUKN"
      },
      "outputs": [],
      "source": [
        "#Plot PES\n",
        "import matplotlib.pyplot as plt\n",
        "\n",
        "fig, ax = plt.subplots()\n",
        "ax.plot(r_range, energies)\n",
        "\n",
        "\n",
        "ax.set_xlabel('Distance (Bohr)', fontsize=16)\n",
        "ax.set_ylabel('Total energy (Hartree)', fontsize=16)\n",
        "\n",
        "\n",
        "ax.grid()\n",
        "plt.show()"
      ]
    },
    {
      "cell_type": "markdown",
      "metadata": {
        "id": "V-QWq4NWNd46"
      },
      "source": [
        "From the potential energy surface (PES), we can estimate the activation energy by calculating the difference between the energy of the reactants and the energy of the transition state."
      ]
    },
    {
      "cell_type": "code",
      "execution_count": null,
      "metadata": {
        "id": "9OCC7xcX7XmG"
      },
      "outputs": [],
      "source": [
        "# Energy of the reactants and products - two minima on the PES\n",
        "e_eq1 = min(energies)\n",
        "e_eq2 = min([x for x in energies if x != e_eq1])\n",
        "\n",
        "idx1 = energies.index(e_eq1)\n",
        "idx2 = energies.index(e_eq2)\n",
        "\n",
        "# Transition state is the local maximum between reactant and products\n",
        "idx_min = min(idx1, idx2)\n",
        "idx_max = max(idx1, idx2)\n",
        "\n",
        "# Transition state energy\n",
        "energy_ts = max(energies[idx_min:idx_max])\n",
        "\n",
        "# Activation energy\n",
        "activation_energy = energy_ts - e_eq1\n",
        "\n",
        "print(f\"The activation energy is {activation_energy:.6f} Hartrees\")"
      ]
    },
    {
      "cell_type": "markdown",
      "metadata": {
        "id": "PwaonsX3NwM1"
      },
      "source": [
        "We can interpret this result by comparing the scale of the activation with the scale of thermal flucuations and the chemical accuracy standard (comparable with experimental accuracy).\n",
        "\n",
        "We can also explore the sensivity of our estimate of the reaction relative to the accuracy of our computation."
      ]
    },
    {
      "cell_type": "code",
      "execution_count": null,
      "metadata": {
        "id": "uGP1YXib77jc"
      },
      "outputs": [],
      "source": [
        "#Boltzmann constant in atomic units (Hartee/Kelvin)\n",
        "k_B=3.167e-6\n",
        "\n",
        "#Temperature in Kelvin\n",
        "T = 300\n",
        "\n",
        "#Energy scale of thermal fluctuations\n",
        "print(\"Energy scale of thermal fluctuations\", k_B*T, \"Ha\")\n",
        "\n",
        "#Standard of scale of experimental accuracy\n",
        "print(\"Chemical accuracy: 0.0016 Ha\")\n",
        "\n",
        "#What happens to our estimate of the reaction rate if we underestimate the activation energy by 10%?\n",
        "ratio = pnp.exp(-activation_energy / (k_B * T))/pnp.exp(-(activation_energy*0.90) / (k_B * T))\n",
        "\n",
        "print(f\"Ratio of reaction rates is {ratio:.5f}\")"
      ]
    },
    {
      "cell_type": "markdown",
      "metadata": {
        "id": "_R-P6TrrRfnj"
      },
      "source": [
        "# Introduction to Datasets (time-permitting)"
      ]
    },
    {
      "cell_type": "markdown",
      "metadata": {
        "id": "HSACmMF1m1Q7"
      },
      "source": [
        "A quantum dataset is a collection of data that describes quantum systems and their evolution. We refer to such data features as quantum data, which in the context of quantum programming, can be realized as the input arguments and outputs of a quantum function that defines a quantum system. (Source: [pennylane.ai/datasets](https://pennylane.ai/datasets/what-is-a-quantum-dataset))\n",
        "\n",
        "Easy access to large data is integral to quantum computing research – especially as quantum algorithms and hardware scale. PennyLane Datasets make it easier to browse available datasets, and find exactly what you are looking for."
      ]
    },
    {
      "cell_type": "code",
      "execution_count": 2,
      "metadata": {
        "id": "_7i2DJJisxyB"
      },
      "outputs": [],
      "source": [
        "# Load dataset for H3\n"
      ]
    },
    {
      "cell_type": "code",
      "execution_count": 1,
      "metadata": {
        "id": "HnWPVBB-e55F"
      },
      "outputs": [],
      "source": [
        "#Get the Hamiltonian of the H3 molecule\n"
      ]
    },
    {
      "cell_type": "code",
      "execution_count": 3,
      "metadata": {
        "id": "7lj6ajD_vDAt"
      },
      "outputs": [],
      "source": [
        "# Get the number of qubits needed for simulating the molecule and the length of Hamiltonian\n"
      ]
    },
    {
      "cell_type": "code",
      "execution_count": 4,
      "metadata": {
        "id": "ho7oXqpIvOxq"
      },
      "outputs": [],
      "source": [
        "# VQE with datasets\n",
        "\n",
        "\n"
      ]
    },
    {
      "cell_type": "code",
      "execution_count": 5,
      "metadata": {
        "id": "dlyhQ6Cf9tiU"
      },
      "outputs": [],
      "source": [
        "# Get the ground state energy estimate\n"
      ]
    },
    {
      "cell_type": "code",
      "execution_count": 6,
      "metadata": {
        "id": "C_o6Amc6AHb3"
      },
      "outputs": [],
      "source": [
        "# Look at the gates used in the ansatz of the variational circuit\n"
      ]
    },
    {
      "cell_type": "code",
      "execution_count": 7,
      "metadata": {
        "id": "xC49IuAqAgEZ"
      },
      "outputs": [],
      "source": [
        "# Access the parameters of the gates used in the ansatz\n"
      ]
    },
    {
      "cell_type": "markdown",
      "metadata": {
        "id": "LcXAmfC7p0WA"
      },
      "source": [
        "# Example 2: LiH molecule"
      ]
    },
    {
      "cell_type": "markdown",
      "metadata": {
        "id": "eJOKg_hRp4ej"
      },
      "source": [
        "Use the datasets to find the ground state energy for the LiH molecule for a bond length of 1.57 Å."
      ]
    },
    {
      "cell_type": "code",
      "execution_count": 7,
      "metadata": {
        "id": "TTiEgQXrh9U4"
      },
      "outputs": [],
      "source": []
    },
    {
      "cell_type": "markdown",
      "metadata": {
        "id": "rUjhm0zWwfaj"
      },
      "source": [
        "# Copyright\n",
        "Copyright 2024 Xanadu Quantum Technologies Inc.\n",
        "\n",
        "Please do not distribute this material outside of your organization.\n",
        "\n",
        "Unless required by applicable law or agreed to in writing, software distributed\n",
        "under this training is distributed on an \"AS IS\" BASIS, WITHOUT WARRANTIES OR\n",
        "CONDITIONS OF ANY KIND, either express or implied."
      ]
    }
  ],
  "metadata": {
    "colab": {
      "provenance": []
    },
    "kernelspec": {
      "display_name": "Python 3",
      "name": "python3"
    },
    "language_info": {
      "name": "python",
      "version": "3.12.7"
    }
  },
  "nbformat": 4,
  "nbformat_minor": 0
}
